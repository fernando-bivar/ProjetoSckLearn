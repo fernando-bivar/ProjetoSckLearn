{
  "nbformat": 4,
  "nbformat_minor": 0,
  "metadata": {
    "kernelspec": {
      "display_name": "Python 3",
      "language": "python",
      "name": "python3"
    },
    "language_info": {
      "codemirror_mode": {
        "name": "ipython",
        "version": 3
      },
      "file_extension": ".py",
      "mimetype": "text/x-python",
      "name": "python",
      "nbconvert_exporter": "python",
      "pygments_lexer": "ipython3",
      "version": "3.7.4"
    },
    "colab": {
      "name": "ProjetoSckLearn.ipynb",
      "provenance": []
    }
  },
  "cells": [
    {
      "cell_type": "code",
      "metadata": {
        "id": "paTxTxISVbmM",
        "colab_type": "code",
        "colab": {}
      },
      "source": [
        "#pip install mglearn"
      ],
      "execution_count": 0,
      "outputs": []
    },
    {
      "cell_type": "code",
      "metadata": {
        "id": "TcGMTrsHVbmh",
        "colab_type": "code",
        "colab": {}
      },
      "source": [
        "from sklearn.datasets import load_breast_cancer\n",
        "from sklearn.model_selection import train_test_split\n",
        "from sklearn.naive_bayes import GaussianNB\n",
        "from sklearn.metrics import accuracy_score\n",
        "from sklearn.neighbors import KNeighborsClassifier\n",
        "import matplotlib.pyplot as plt\n",
        "import mglearn\n",
        "\n",
        "%matplotlib inline"
      ],
      "execution_count": 0,
      "outputs": []
    },
    {
      "cell_type": "code",
      "metadata": {
        "id": "h82qIfIuVbmv",
        "colab_type": "code",
        "colab": {}
      },
      "source": [
        "# Carregar o dataset\n",
        "data = load_breast_cancer()"
      ],
      "execution_count": 0,
      "outputs": []
    },
    {
      "cell_type": "code",
      "metadata": {
        "id": "AXRSUol2Vbm_",
        "colab_type": "code",
        "colab": {}
      },
      "source": [
        "print(data.DESCR)"
      ],
      "execution_count": 0,
      "outputs": []
    },
    {
      "cell_type": "code",
      "metadata": {
        "id": "vVWcgHrkVbnM",
        "colab_type": "code",
        "colab": {}
      },
      "source": [
        "print(data.feature_names)\n",
        "print(data.target_names)"
      ],
      "execution_count": 0,
      "outputs": []
    },
    {
      "cell_type": "code",
      "metadata": {
        "id": "f3eIWqgfVbnX",
        "colab_type": "code",
        "colab": {}
      },
      "source": [
        "type(data.data)"
      ],
      "execution_count": 0,
      "outputs": []
    },
    {
      "cell_type": "code",
      "metadata": {
        "id": "H12MjqZhVbni",
        "colab_type": "code",
        "colab": {}
      },
      "source": [
        "# Organizar nossos dados\n",
        "label_names = data['target_names']\n",
        "labels = data['target']\n",
        "feature_names = data['feature_names']\n",
        "features = data['data']"
      ],
      "execution_count": 0,
      "outputs": []
    },
    {
      "cell_type": "code",
      "metadata": {
        "id": "4lTYcPcWVbno",
        "colab_type": "code",
        "colab": {}
      },
      "source": [
        "# Olhando para os nossos dados\n",
        "print(label_names)\n",
        "print('Class label = ', labels[0])\n",
        "print(feature_names)\n",
        "print(features[0])"
      ],
      "execution_count": 0,
      "outputs": []
    },
    {
      "cell_type": "code",
      "metadata": {
        "id": "1D1LNeR5Vbnz",
        "colab_type": "code",
        "colab": {}
      },
      "source": [
        "# Dividir nossos dados\n",
        "train, test, train_labels, test_labels = train_test_split(features,\n",
        "                                                          labels,\n",
        "                                                          test_size=0.33,\n",
        "                                                          random_state=42)"
      ],
      "execution_count": 0,
      "outputs": []
    },
    {
      "cell_type": "code",
      "metadata": {
        "id": "Gw2jM7opVbn7",
        "colab_type": "code",
        "colab": {}
      },
      "source": [
        "# Inicializar nosso classificador\n",
        "gnb = GaussianNB()"
      ],
      "execution_count": 0,
      "outputs": []
    },
    {
      "cell_type": "code",
      "metadata": {
        "id": "CBcgGMdNVboE",
        "colab_type": "code",
        "colab": {}
      },
      "source": [
        "# Treinar nosso classificador\n",
        "model = gnb.fit(train, train_labels)"
      ],
      "execution_count": 0,
      "outputs": []
    },
    {
      "cell_type": "code",
      "metadata": {
        "id": "3mToCLhOS8mK",
        "colab_type": "code",
        "colab": {}
      },
      "source": [
        "gnb.score(train, train_labels)"
      ],
      "execution_count": 0,
      "outputs": []
    },
    {
      "cell_type": "code",
      "metadata": {
        "id": "sVU9qRQ-VboN",
        "colab_type": "code",
        "colab": {}
      },
      "source": [
        "# Fazer previsões\n",
        "preds = gnb.predict(test)\n",
        "preds"
      ],
      "execution_count": 0,
      "outputs": []
    },
    {
      "cell_type": "code",
      "metadata": {
        "id": "0lkFZVO6FfGu",
        "colab_type": "code",
        "colab": {}
      },
      "source": [
        "preds1 = np.array2string(preds)"
      ],
      "execution_count": 0,
      "outputs": []
    },
    {
      "cell_type": "code",
      "metadata": {
        "id": "63ohwREIP_uA",
        "colab_type": "code",
        "colab": {}
      },
      "source": [
        "import numpy as np"
      ],
      "execution_count": 0,
      "outputs": []
    },
    {
      "cell_type": "code",
      "metadata": {
        "id": "AajvCzM-G9Wc",
        "colab_type": "code",
        "colab": {}
      },
      "source": [
        "preds2 = preds1.replace('\\n','')"
      ],
      "execution_count": 0,
      "outputs": []
    },
    {
      "cell_type": "code",
      "metadata": {
        "id": "q2B26_epQ4Ng",
        "colab_type": "code",
        "colab": {}
      },
      "source": [
        "preds3 = preds2.replace(' ',',')"
      ],
      "execution_count": 0,
      "outputs": []
    },
    {
      "cell_type": "code",
      "metadata": {
        "id": "P_hIIbf4WhQL",
        "colab_type": "code",
        "colab": {}
      },
      "source": [
        "preds3"
      ],
      "execution_count": 0,
      "outputs": []
    },
    {
      "cell_type": "code",
      "metadata": {
        "id": "pAgSHLqKVboW",
        "colab_type": "code",
        "colab": {}
      },
      "source": [
        "# Avaliar a precisão\n",
        "print(accuracy_score(test_labels, preds))"
      ],
      "execution_count": 0,
      "outputs": []
    },
    {
      "cell_type": "code",
      "metadata": {
        "id": "Y3xZLz20Vboj",
        "colab_type": "code",
        "colab": {}
      },
      "source": [
        "import pandas as pd"
      ],
      "execution_count": 0,
      "outputs": []
    },
    {
      "cell_type": "code",
      "metadata": {
        "id": "h9AOXMUYVboq",
        "colab_type": "code",
        "colab": {}
      },
      "source": [
        "raw_data = pd.read_csv('breast-cancer-wisconsin-data.csv', delimiter=',')"
      ],
      "execution_count": 0,
      "outputs": []
    },
    {
      "cell_type": "code",
      "metadata": {
        "id": "Q88dYgJ1Vbox",
        "colab_type": "code",
        "colab": {}
      },
      "source": [
        "raw_data.tail(10)"
      ],
      "execution_count": 0,
      "outputs": []
    },
    {
      "cell_type": "code",
      "metadata": {
        "id": "P9uQ1Gm6VbpC",
        "colab_type": "code",
        "colab": {}
      },
      "source": [
        "mglearn.plots.plot_knn_classification(n_neighbors = 3)"
      ],
      "execution_count": 0,
      "outputs": []
    },
    {
      "cell_type": "code",
      "metadata": {
        "id": "Mgd-zCudVbpL",
        "colab_type": "code",
        "colab": {}
      },
      "source": [
        "cancer = load_breast_cancer()"
      ],
      "execution_count": 0,
      "outputs": []
    },
    {
      "cell_type": "code",
      "metadata": {
        "id": "Z9IBu0SHVbpS",
        "colab_type": "code",
        "colab": {}
      },
      "source": [
        "cancer.target"
      ],
      "execution_count": 0,
      "outputs": []
    },
    {
      "cell_type": "markdown",
      "metadata": {
        "id": "dvOBJOcBaGfZ",
        "colab_type": "text"
      },
      "source": [
        "# Classificação Kneighbors **sem** parametro e random_state 42"
      ]
    },
    {
      "cell_type": "code",
      "metadata": {
        "id": "leDSoyI9Vbpa",
        "colab_type": "code",
        "colab": {}
      },
      "source": [
        "X_train, X_test, y_train, y_test = train_test_split(cancer.data, cancer.target, stratify=cancer.target, random_state=42)\n",
        "\n",
        "knn = KNeighborsClassifier()\n",
        "knn.fit(X_train, y_train)"
      ],
      "execution_count": 0,
      "outputs": []
    },
    {
      "cell_type": "code",
      "metadata": {
        "id": "ZuwYrdovVbpk",
        "colab_type": "code",
        "colab": {}
      },
      "source": [
        "print('Accuracy of KNN n-5, on the training set: {:.3f}'.format(knn.score(X_train, y_train)))\n",
        "print('Accuracy of KNN n-5, on the test set: {:.3f}'.format(knn.score(X_test, y_test)))"
      ],
      "execution_count": 0,
      "outputs": []
    },
    {
      "cell_type": "markdown",
      "metadata": {
        "id": "mHhtPZgJZr_E",
        "colab_type": "text"
      },
      "source": [
        "# Classificação Kneighbors **sem** parametro e random_state 66"
      ]
    },
    {
      "cell_type": "code",
      "metadata": {
        "id": "wZ-BvUo8Vbpq",
        "colab_type": "code",
        "colab": {}
      },
      "source": [
        "X_train, X_test, y_train, y_test = train_test_split(cancer.data, cancer.target, stratify=cancer.target, random_state=66)\n",
        "\n",
        "knn = KNeighborsClassifier()\n",
        "knn.fit(X_train, y_train)"
      ],
      "execution_count": 0,
      "outputs": []
    },
    {
      "cell_type": "code",
      "metadata": {
        "id": "1yV-fMDlVbpw",
        "colab_type": "code",
        "colab": {}
      },
      "source": [
        "print('Accuracy of KNN n-5, on the training set: {:.3f}'.format(knn.score(X_train, y_train)))\n",
        "print('Accuracy of KNN n-5, on the test set: {:.3f}'.format(knn.score(X_test, y_test)))"
      ],
      "execution_count": 0,
      "outputs": []
    },
    {
      "cell_type": "markdown",
      "metadata": {
        "id": "dynVWOkKYwo7",
        "colab_type": "text"
      },
      "source": [
        "# Classificação Kneighbors **com** parametro e random_state 66"
      ]
    },
    {
      "cell_type": "code",
      "metadata": {
        "id": "OZrscxi4YXOv",
        "colab_type": "code",
        "colab": {}
      },
      "source": [
        "# Resplit the data, with a different randomization (inspired by Muller & Guido ML book - https://www.amazon.com/dp/1449369413/)\n",
        "X_train, X_test, y_train, y_test = train_test_split(cancer.data, cancer.target, stratify=cancer.target, random_state=66)"
      ],
      "execution_count": 0,
      "outputs": []
    },
    {
      "cell_type": "code",
      "metadata": {
        "id": "wrDdAuEqVbp1",
        "colab_type": "code",
        "colab": {}
      },
      "source": [
        "# Create two lists for training and test accuracies\n",
        "training_accuracy = []\n",
        "test_accuracy = []"
      ],
      "execution_count": 0,
      "outputs": []
    },
    {
      "cell_type": "code",
      "metadata": {
        "id": "NJ8URaB0Vbp_",
        "colab_type": "code",
        "colab": {}
      },
      "source": [
        "# Define a range of 1 to 10 (included) neighbors to be tested\n",
        "neighbors_settings = range(1,11)"
      ],
      "execution_count": 0,
      "outputs": []
    },
    {
      "cell_type": "code",
      "metadata": {
        "id": "dela9SrIVbqF",
        "colab_type": "code",
        "colab": {}
      },
      "source": [
        "# Loop with the KNN through the different number of neighbors to determine the most appropriate (best)\n",
        "for n_neighbors in neighbors_settings:\n",
        "    clf = KNeighborsClassifier(n_neighbors=n_neighbors)\n",
        "    clf.fit(X_train, y_train)\n",
        "    training_accuracy.append(clf.score(X_train, y_train))\n",
        "    test_accuracy.append(clf.score(X_test, y_test))"
      ],
      "execution_count": 0,
      "outputs": []
    },
    {
      "cell_type": "code",
      "metadata": {
        "id": "UkAKUHUJVbqL",
        "colab_type": "code",
        "colab": {}
      },
      "source": [
        "# Visualize results - to help with deciding which n_neigbors yields the best results (n_neighbors=6, in this case)\n",
        "plt.plot(neighbors_settings, training_accuracy, label='Accuracy of the training set')\n",
        "plt.plot(neighbors_settings, test_accuracy, label='Accuracy of the test set')\n",
        "plt.ylabel('Accuracy')\n",
        "plt.xlabel('Number of Neighbors')\n",
        "plt.legend()"
      ],
      "execution_count": 0,
      "outputs": []
    },
    {
      "cell_type": "markdown",
      "metadata": {
        "id": "dMQVd8OgZU4y",
        "colab_type": "text"
      },
      "source": [
        "# Classificação Kneighbors **com** parametro e random_state 42"
      ]
    },
    {
      "cell_type": "code",
      "metadata": {
        "id": "g8kz6z6iVbqV",
        "colab_type": "code",
        "colab": {}
      },
      "source": [
        "# Resplit the data, with a different randomization (inspired by Muller & Guido ML book - https://www.amazon.com/dp/1449369413/)\n",
        "X_train, X_test, y_train, y_test = train_test_split(cancer.data, cancer.target, stratify=cancer.target, random_state=42)"
      ],
      "execution_count": 0,
      "outputs": []
    },
    {
      "cell_type": "code",
      "metadata": {
        "id": "ebWhRCstVbqb",
        "colab_type": "code",
        "colab": {}
      },
      "source": [
        "# Create two lists for training and test accuracies\n",
        "training_accuracy = []\n",
        "test_accuracy = []"
      ],
      "execution_count": 0,
      "outputs": []
    },
    {
      "cell_type": "code",
      "metadata": {
        "id": "qZ2tkXupVbqi",
        "colab_type": "code",
        "colab": {}
      },
      "source": [
        "# Define a range of 1 to 10 (included) neighbors to be tested\n",
        "neighbors_settings = range(1,11)"
      ],
      "execution_count": 0,
      "outputs": []
    },
    {
      "cell_type": "code",
      "metadata": {
        "id": "_0MwjTSLVbqo",
        "colab_type": "code",
        "colab": {}
      },
      "source": [
        "# Loop with the KNN through the different number of neighbors to determine the most appropriate (best)\n",
        "for n_neighbors in neighbors_settings:\n",
        "    knn = KNeighborsClassifier(n_neighbors=n_neighbors)\n",
        "    knn.fit(X_train, y_train)\n",
        "    training_accuracy.append(knn.score(X_train, y_train))\n",
        "    test_accuracy.append(knn.score(X_test, y_test))"
      ],
      "execution_count": 0,
      "outputs": []
    },
    {
      "cell_type": "code",
      "metadata": {
        "id": "IHApxZUEVbq0",
        "colab_type": "code",
        "colab": {}
      },
      "source": [
        "# Visualize results - to help with deciding which n_neigbors yields the best results (n_neighbors=6, in this case)\n",
        "plt.plot(neighbors_settings, training_accuracy, label='Accuracy of the training set')\n",
        "plt.plot(neighbors_settings, test_accuracy, label='Accuracy of the test set')\n",
        "plt.ylabel('Accuracy')\n",
        "plt.xlabel('Number of Neighbors')\n",
        "plt.legend()"
      ],
      "execution_count": 0,
      "outputs": []
    }
  ]
}